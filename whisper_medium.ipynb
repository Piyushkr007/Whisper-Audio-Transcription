{
  "nbformat": 4,
  "nbformat_minor": 0,
  "metadata": {
    "colab": {
      "provenance": [],
      "gpuType": "T4"
    },
    "kernelspec": {
      "name": "python3",
      "display_name": "Python 3"
    },
    "language_info": {
      "name": "python"
    },
    "accelerator": "GPU",
    "widgets": {
      "application/vnd.jupyter.widget-state+json": {
        "f43574dd44064c2ca792ceee07e00333": {
          "model_module": "@jupyter-widgets/controls",
          "model_name": "VBoxModel",
          "model_module_version": "1.5.0",
          "state": {
            "_dom_classes": [],
            "_model_module": "@jupyter-widgets/controls",
            "_model_module_version": "1.5.0",
            "_model_name": "VBoxModel",
            "_view_count": null,
            "_view_module": "@jupyter-widgets/controls",
            "_view_module_version": "1.5.0",
            "_view_name": "VBoxView",
            "box_style": "",
            "children": [],
            "layout": "IPY_MODEL_a5c90fafe05f46eca5992c90d68663e4"
          }
        },
        "82a9c5d23ad04860ae54f897952c7d66": {
          "model_module": "@jupyter-widgets/controls",
          "model_name": "HTMLModel",
          "model_module_version": "1.5.0",
          "state": {
            "_dom_classes": [],
            "_model_module": "@jupyter-widgets/controls",
            "_model_module_version": "1.5.0",
            "_model_name": "HTMLModel",
            "_view_count": null,
            "_view_module": "@jupyter-widgets/controls",
            "_view_module_version": "1.5.0",
            "_view_name": "HTMLView",
            "description": "",
            "description_tooltip": null,
            "layout": "IPY_MODEL_d196bbcfee7e4063a1f08cb80ff6acd0",
            "placeholder": "​",
            "style": "IPY_MODEL_113f9e22b83d4bbbb0a747737072b13f",
            "value": "<center> <img\nsrc=https://huggingface.co/front/assets/huggingface_logo-noborder.svg\nalt='Hugging Face'> <br> Copy a token from <a\nhref=\"https://huggingface.co/settings/tokens\" target=\"_blank\">your Hugging Face\ntokens page</a> and paste it below. <br> Immediately click login after copying\nyour token or it might be stored in plain text in this notebook file. </center>"
          }
        },
        "8eed3be81f094faa9504a3bc7751beec": {
          "model_module": "@jupyter-widgets/controls",
          "model_name": "PasswordModel",
          "model_module_version": "1.5.0",
          "state": {
            "_dom_classes": [],
            "_model_module": "@jupyter-widgets/controls",
            "_model_module_version": "1.5.0",
            "_model_name": "PasswordModel",
            "_view_count": null,
            "_view_module": "@jupyter-widgets/controls",
            "_view_module_version": "1.5.0",
            "_view_name": "PasswordView",
            "continuous_update": true,
            "description": "Token:",
            "description_tooltip": null,
            "disabled": false,
            "layout": "IPY_MODEL_65ceddcc13714c53868b6177c19e7704",
            "placeholder": "​",
            "style": "IPY_MODEL_e2d444893af84bce92b55ca913964687",
            "value": ""
          }
        },
        "6e79588de2be48f992707f81594796d6": {
          "model_module": "@jupyter-widgets/controls",
          "model_name": "CheckboxModel",
          "model_module_version": "1.5.0",
          "state": {
            "_dom_classes": [],
            "_model_module": "@jupyter-widgets/controls",
            "_model_module_version": "1.5.0",
            "_model_name": "CheckboxModel",
            "_view_count": null,
            "_view_module": "@jupyter-widgets/controls",
            "_view_module_version": "1.5.0",
            "_view_name": "CheckboxView",
            "description": "Add token as git credential?",
            "description_tooltip": null,
            "disabled": false,
            "indent": true,
            "layout": "IPY_MODEL_7bb76e9e017748708cf2f334b4283e11",
            "style": "IPY_MODEL_81d932298e36495786a7d8f9dc08592d",
            "value": false
          }
        },
        "1d7d2515562246e8bbf76c18b6c2a527": {
          "model_module": "@jupyter-widgets/controls",
          "model_name": "ButtonModel",
          "model_module_version": "1.5.0",
          "state": {
            "_dom_classes": [],
            "_model_module": "@jupyter-widgets/controls",
            "_model_module_version": "1.5.0",
            "_model_name": "ButtonModel",
            "_view_count": null,
            "_view_module": "@jupyter-widgets/controls",
            "_view_module_version": "1.5.0",
            "_view_name": "ButtonView",
            "button_style": "",
            "description": "Login",
            "disabled": false,
            "icon": "",
            "layout": "IPY_MODEL_4b392634125844e280968654bfdf0f1a",
            "style": "IPY_MODEL_d9a0668dc6a4452eb66299960959cd6b",
            "tooltip": ""
          }
        },
        "d8485ed61a144d0f8029862638ca2d0f": {
          "model_module": "@jupyter-widgets/controls",
          "model_name": "HTMLModel",
          "model_module_version": "1.5.0",
          "state": {
            "_dom_classes": [],
            "_model_module": "@jupyter-widgets/controls",
            "_model_module_version": "1.5.0",
            "_model_name": "HTMLModel",
            "_view_count": null,
            "_view_module": "@jupyter-widgets/controls",
            "_view_module_version": "1.5.0",
            "_view_name": "HTMLView",
            "description": "",
            "description_tooltip": null,
            "layout": "IPY_MODEL_6f795cfc00e14b0a985c1db8875367de",
            "placeholder": "​",
            "style": "IPY_MODEL_1408e66a40b84fb8810e1f916a77aba5",
            "value": "\n<b>Pro Tip:</b> If you don't already have one, you can create a dedicated\n'notebooks' token with 'write' access, that you can then easily reuse for all\nnotebooks. </center>"
          }
        },
        "a5c90fafe05f46eca5992c90d68663e4": {
          "model_module": "@jupyter-widgets/base",
          "model_name": "LayoutModel",
          "model_module_version": "1.2.0",
          "state": {
            "_model_module": "@jupyter-widgets/base",
            "_model_module_version": "1.2.0",
            "_model_name": "LayoutModel",
            "_view_count": null,
            "_view_module": "@jupyter-widgets/base",
            "_view_module_version": "1.2.0",
            "_view_name": "LayoutView",
            "align_content": null,
            "align_items": "center",
            "align_self": null,
            "border": null,
            "bottom": null,
            "display": "flex",
            "flex": null,
            "flex_flow": "column",
            "grid_area": null,
            "grid_auto_columns": null,
            "grid_auto_flow": null,
            "grid_auto_rows": null,
            "grid_column": null,
            "grid_gap": null,
            "grid_row": null,
            "grid_template_areas": null,
            "grid_template_columns": null,
            "grid_template_rows": null,
            "height": null,
            "justify_content": null,
            "justify_items": null,
            "left": null,
            "margin": null,
            "max_height": null,
            "max_width": null,
            "min_height": null,
            "min_width": null,
            "object_fit": null,
            "object_position": null,
            "order": null,
            "overflow": null,
            "overflow_x": null,
            "overflow_y": null,
            "padding": null,
            "right": null,
            "top": null,
            "visibility": null,
            "width": "50%"
          }
        },
        "d196bbcfee7e4063a1f08cb80ff6acd0": {
          "model_module": "@jupyter-widgets/base",
          "model_name": "LayoutModel",
          "model_module_version": "1.2.0",
          "state": {
            "_model_module": "@jupyter-widgets/base",
            "_model_module_version": "1.2.0",
            "_model_name": "LayoutModel",
            "_view_count": null,
            "_view_module": "@jupyter-widgets/base",
            "_view_module_version": "1.2.0",
            "_view_name": "LayoutView",
            "align_content": null,
            "align_items": null,
            "align_self": null,
            "border": null,
            "bottom": null,
            "display": null,
            "flex": null,
            "flex_flow": null,
            "grid_area": null,
            "grid_auto_columns": null,
            "grid_auto_flow": null,
            "grid_auto_rows": null,
            "grid_column": null,
            "grid_gap": null,
            "grid_row": null,
            "grid_template_areas": null,
            "grid_template_columns": null,
            "grid_template_rows": null,
            "height": null,
            "justify_content": null,
            "justify_items": null,
            "left": null,
            "margin": null,
            "max_height": null,
            "max_width": null,
            "min_height": null,
            "min_width": null,
            "object_fit": null,
            "object_position": null,
            "order": null,
            "overflow": null,
            "overflow_x": null,
            "overflow_y": null,
            "padding": null,
            "right": null,
            "top": null,
            "visibility": null,
            "width": null
          }
        },
        "113f9e22b83d4bbbb0a747737072b13f": {
          "model_module": "@jupyter-widgets/controls",
          "model_name": "DescriptionStyleModel",
          "model_module_version": "1.5.0",
          "state": {
            "_model_module": "@jupyter-widgets/controls",
            "_model_module_version": "1.5.0",
            "_model_name": "DescriptionStyleModel",
            "_view_count": null,
            "_view_module": "@jupyter-widgets/base",
            "_view_module_version": "1.2.0",
            "_view_name": "StyleView",
            "description_width": ""
          }
        },
        "65ceddcc13714c53868b6177c19e7704": {
          "model_module": "@jupyter-widgets/base",
          "model_name": "LayoutModel",
          "model_module_version": "1.2.0",
          "state": {
            "_model_module": "@jupyter-widgets/base",
            "_model_module_version": "1.2.0",
            "_model_name": "LayoutModel",
            "_view_count": null,
            "_view_module": "@jupyter-widgets/base",
            "_view_module_version": "1.2.0",
            "_view_name": "LayoutView",
            "align_content": null,
            "align_items": null,
            "align_self": null,
            "border": null,
            "bottom": null,
            "display": null,
            "flex": null,
            "flex_flow": null,
            "grid_area": null,
            "grid_auto_columns": null,
            "grid_auto_flow": null,
            "grid_auto_rows": null,
            "grid_column": null,
            "grid_gap": null,
            "grid_row": null,
            "grid_template_areas": null,
            "grid_template_columns": null,
            "grid_template_rows": null,
            "height": null,
            "justify_content": null,
            "justify_items": null,
            "left": null,
            "margin": null,
            "max_height": null,
            "max_width": null,
            "min_height": null,
            "min_width": null,
            "object_fit": null,
            "object_position": null,
            "order": null,
            "overflow": null,
            "overflow_x": null,
            "overflow_y": null,
            "padding": null,
            "right": null,
            "top": null,
            "visibility": null,
            "width": null
          }
        },
        "e2d444893af84bce92b55ca913964687": {
          "model_module": "@jupyter-widgets/controls",
          "model_name": "DescriptionStyleModel",
          "model_module_version": "1.5.0",
          "state": {
            "_model_module": "@jupyter-widgets/controls",
            "_model_module_version": "1.5.0",
            "_model_name": "DescriptionStyleModel",
            "_view_count": null,
            "_view_module": "@jupyter-widgets/base",
            "_view_module_version": "1.2.0",
            "_view_name": "StyleView",
            "description_width": ""
          }
        },
        "7bb76e9e017748708cf2f334b4283e11": {
          "model_module": "@jupyter-widgets/base",
          "model_name": "LayoutModel",
          "model_module_version": "1.2.0",
          "state": {
            "_model_module": "@jupyter-widgets/base",
            "_model_module_version": "1.2.0",
            "_model_name": "LayoutModel",
            "_view_count": null,
            "_view_module": "@jupyter-widgets/base",
            "_view_module_version": "1.2.0",
            "_view_name": "LayoutView",
            "align_content": null,
            "align_items": null,
            "align_self": null,
            "border": null,
            "bottom": null,
            "display": null,
            "flex": null,
            "flex_flow": null,
            "grid_area": null,
            "grid_auto_columns": null,
            "grid_auto_flow": null,
            "grid_auto_rows": null,
            "grid_column": null,
            "grid_gap": null,
            "grid_row": null,
            "grid_template_areas": null,
            "grid_template_columns": null,
            "grid_template_rows": null,
            "height": null,
            "justify_content": null,
            "justify_items": null,
            "left": null,
            "margin": null,
            "max_height": null,
            "max_width": null,
            "min_height": null,
            "min_width": null,
            "object_fit": null,
            "object_position": null,
            "order": null,
            "overflow": null,
            "overflow_x": null,
            "overflow_y": null,
            "padding": null,
            "right": null,
            "top": null,
            "visibility": null,
            "width": null
          }
        },
        "81d932298e36495786a7d8f9dc08592d": {
          "model_module": "@jupyter-widgets/controls",
          "model_name": "DescriptionStyleModel",
          "model_module_version": "1.5.0",
          "state": {
            "_model_module": "@jupyter-widgets/controls",
            "_model_module_version": "1.5.0",
            "_model_name": "DescriptionStyleModel",
            "_view_count": null,
            "_view_module": "@jupyter-widgets/base",
            "_view_module_version": "1.2.0",
            "_view_name": "StyleView",
            "description_width": ""
          }
        },
        "4b392634125844e280968654bfdf0f1a": {
          "model_module": "@jupyter-widgets/base",
          "model_name": "LayoutModel",
          "model_module_version": "1.2.0",
          "state": {
            "_model_module": "@jupyter-widgets/base",
            "_model_module_version": "1.2.0",
            "_model_name": "LayoutModel",
            "_view_count": null,
            "_view_module": "@jupyter-widgets/base",
            "_view_module_version": "1.2.0",
            "_view_name": "LayoutView",
            "align_content": null,
            "align_items": null,
            "align_self": null,
            "border": null,
            "bottom": null,
            "display": null,
            "flex": null,
            "flex_flow": null,
            "grid_area": null,
            "grid_auto_columns": null,
            "grid_auto_flow": null,
            "grid_auto_rows": null,
            "grid_column": null,
            "grid_gap": null,
            "grid_row": null,
            "grid_template_areas": null,
            "grid_template_columns": null,
            "grid_template_rows": null,
            "height": null,
            "justify_content": null,
            "justify_items": null,
            "left": null,
            "margin": null,
            "max_height": null,
            "max_width": null,
            "min_height": null,
            "min_width": null,
            "object_fit": null,
            "object_position": null,
            "order": null,
            "overflow": null,
            "overflow_x": null,
            "overflow_y": null,
            "padding": null,
            "right": null,
            "top": null,
            "visibility": null,
            "width": null
          }
        },
        "d9a0668dc6a4452eb66299960959cd6b": {
          "model_module": "@jupyter-widgets/controls",
          "model_name": "ButtonStyleModel",
          "model_module_version": "1.5.0",
          "state": {
            "_model_module": "@jupyter-widgets/controls",
            "_model_module_version": "1.5.0",
            "_model_name": "ButtonStyleModel",
            "_view_count": null,
            "_view_module": "@jupyter-widgets/base",
            "_view_module_version": "1.2.0",
            "_view_name": "StyleView",
            "button_color": null,
            "font_weight": ""
          }
        },
        "6f795cfc00e14b0a985c1db8875367de": {
          "model_module": "@jupyter-widgets/base",
          "model_name": "LayoutModel",
          "model_module_version": "1.2.0",
          "state": {
            "_model_module": "@jupyter-widgets/base",
            "_model_module_version": "1.2.0",
            "_model_name": "LayoutModel",
            "_view_count": null,
            "_view_module": "@jupyter-widgets/base",
            "_view_module_version": "1.2.0",
            "_view_name": "LayoutView",
            "align_content": null,
            "align_items": null,
            "align_self": null,
            "border": null,
            "bottom": null,
            "display": null,
            "flex": null,
            "flex_flow": null,
            "grid_area": null,
            "grid_auto_columns": null,
            "grid_auto_flow": null,
            "grid_auto_rows": null,
            "grid_column": null,
            "grid_gap": null,
            "grid_row": null,
            "grid_template_areas": null,
            "grid_template_columns": null,
            "grid_template_rows": null,
            "height": null,
            "justify_content": null,
            "justify_items": null,
            "left": null,
            "margin": null,
            "max_height": null,
            "max_width": null,
            "min_height": null,
            "min_width": null,
            "object_fit": null,
            "object_position": null,
            "order": null,
            "overflow": null,
            "overflow_x": null,
            "overflow_y": null,
            "padding": null,
            "right": null,
            "top": null,
            "visibility": null,
            "width": null
          }
        },
        "1408e66a40b84fb8810e1f916a77aba5": {
          "model_module": "@jupyter-widgets/controls",
          "model_name": "DescriptionStyleModel",
          "model_module_version": "1.5.0",
          "state": {
            "_model_module": "@jupyter-widgets/controls",
            "_model_module_version": "1.5.0",
            "_model_name": "DescriptionStyleModel",
            "_view_count": null,
            "_view_module": "@jupyter-widgets/base",
            "_view_module_version": "1.2.0",
            "_view_name": "StyleView",
            "description_width": ""
          }
        },
        "23dcc746ce644e509c3073e2d78167cf": {
          "model_module": "@jupyter-widgets/controls",
          "model_name": "LabelModel",
          "model_module_version": "1.5.0",
          "state": {
            "_dom_classes": [],
            "_model_module": "@jupyter-widgets/controls",
            "_model_module_version": "1.5.0",
            "_model_name": "LabelModel",
            "_view_count": null,
            "_view_module": "@jupyter-widgets/controls",
            "_view_module_version": "1.5.0",
            "_view_name": "LabelView",
            "description": "",
            "description_tooltip": null,
            "layout": "IPY_MODEL_a03dae3fee804cca847dde5ee8002f41",
            "placeholder": "​",
            "style": "IPY_MODEL_8dfd36c5b6374e9781803809943e545f",
            "value": "Connecting..."
          }
        },
        "a03dae3fee804cca847dde5ee8002f41": {
          "model_module": "@jupyter-widgets/base",
          "model_name": "LayoutModel",
          "model_module_version": "1.2.0",
          "state": {
            "_model_module": "@jupyter-widgets/base",
            "_model_module_version": "1.2.0",
            "_model_name": "LayoutModel",
            "_view_count": null,
            "_view_module": "@jupyter-widgets/base",
            "_view_module_version": "1.2.0",
            "_view_name": "LayoutView",
            "align_content": null,
            "align_items": null,
            "align_self": null,
            "border": null,
            "bottom": null,
            "display": null,
            "flex": null,
            "flex_flow": null,
            "grid_area": null,
            "grid_auto_columns": null,
            "grid_auto_flow": null,
            "grid_auto_rows": null,
            "grid_column": null,
            "grid_gap": null,
            "grid_row": null,
            "grid_template_areas": null,
            "grid_template_columns": null,
            "grid_template_rows": null,
            "height": null,
            "justify_content": null,
            "justify_items": null,
            "left": null,
            "margin": null,
            "max_height": null,
            "max_width": null,
            "min_height": null,
            "min_width": null,
            "object_fit": null,
            "object_position": null,
            "order": null,
            "overflow": null,
            "overflow_x": null,
            "overflow_y": null,
            "padding": null,
            "right": null,
            "top": null,
            "visibility": null,
            "width": null
          }
        },
        "8dfd36c5b6374e9781803809943e545f": {
          "model_module": "@jupyter-widgets/controls",
          "model_name": "DescriptionStyleModel",
          "model_module_version": "1.5.0",
          "state": {
            "_model_module": "@jupyter-widgets/controls",
            "_model_module_version": "1.5.0",
            "_model_name": "DescriptionStyleModel",
            "_view_count": null,
            "_view_module": "@jupyter-widgets/base",
            "_view_module_version": "1.2.0",
            "_view_name": "StyleView",
            "description_width": ""
          }
        }
      }
    }
  },
  "cells": [
    {
      "cell_type": "code",
      "source": [
        "from huggingface_hub import login\n",
        "import os\n",
        "\n",
        "# Retrieve the token from Colab secrets\n",
        "hf_token = os.getenv(\"HF_TOKEN\")\n",
        "\n",
        "# Log in to Hugging Face\n",
        "login(token=hf_token)"
      ],
      "metadata": {
        "colab": {
          "base_uri": "https://localhost:8080/",
          "height": 17,
          "referenced_widgets": [
            "f43574dd44064c2ca792ceee07e00333",
            "82a9c5d23ad04860ae54f897952c7d66",
            "8eed3be81f094faa9504a3bc7751beec",
            "6e79588de2be48f992707f81594796d6",
            "1d7d2515562246e8bbf76c18b6c2a527",
            "d8485ed61a144d0f8029862638ca2d0f",
            "a5c90fafe05f46eca5992c90d68663e4",
            "d196bbcfee7e4063a1f08cb80ff6acd0",
            "113f9e22b83d4bbbb0a747737072b13f",
            "65ceddcc13714c53868b6177c19e7704",
            "e2d444893af84bce92b55ca913964687",
            "7bb76e9e017748708cf2f334b4283e11",
            "81d932298e36495786a7d8f9dc08592d",
            "4b392634125844e280968654bfdf0f1a",
            "d9a0668dc6a4452eb66299960959cd6b",
            "6f795cfc00e14b0a985c1db8875367de",
            "1408e66a40b84fb8810e1f916a77aba5",
            "23dcc746ce644e509c3073e2d78167cf",
            "a03dae3fee804cca847dde5ee8002f41",
            "8dfd36c5b6374e9781803809943e545f"
          ]
        },
        "id": "mcfT7yYsXFW9",
        "outputId": "05d27222-12d1-4980-f8b3-e8def200c1b8"
      },
      "execution_count": 1,
      "outputs": [
        {
          "output_type": "display_data",
          "data": {
            "text/plain": [
              "VBox(children=(HTML(value='<center> <img\\nsrc=https://huggingface.co/front/assets/huggingface_logo-noborder.sv…"
            ],
            "application/vnd.jupyter.widget-view+json": {
              "version_major": 2,
              "version_minor": 0,
              "model_id": "f43574dd44064c2ca792ceee07e00333"
            }
          },
          "metadata": {}
        }
      ]
    },
    {
      "cell_type": "code",
      "source": [
        "import torch\n",
        "import gradio as gr\n",
        "import soundfile as sf\n",
        "import numpy as np\n",
        "import librosa\n",
        "from transformers import (\n",
        "    WhisperForConditionalGeneration,\n",
        "    WhisperProcessor\n",
        ")"
      ],
      "metadata": {
        "id": "ncPNYZt784ab"
      },
      "execution_count": 4,
      "outputs": []
    },
    {
      "cell_type": "code",
      "source": [
        "def load_whisper_model(model_name=\"openai/whisper-base\"):\n",
        "    try:\n",
        "        # Determine device\n",
        "        device = \"cuda:0\" if torch.cuda.is_available() else \"cpu\"\n",
        "\n",
        "        # Load model and processor\n",
        "        model = WhisperForConditionalGeneration.from_pretrained(\n",
        "            model_name,\n",
        "            torch_dtype=torch.float32,  # Force float32 to avoid dtype issues\n",
        "            low_cpu_mem_usage=True\n",
        "        )\n",
        "        processor = WhisperProcessor.from_pretrained(model_name)\n",
        "\n",
        "        # Move model to device\n",
        "        model.to(device)\n",
        "\n",
        "        return model, processor, device\n",
        "\n",
        "    except Exception as e:\n",
        "        print(f\"Model loading error: {e}\")\n",
        "        return None, None, None"
      ],
      "metadata": {
        "id": "MhfD3Bbx88nf"
      },
      "execution_count": 5,
      "outputs": []
    },
    {
      "cell_type": "code",
      "source": [
        "# Global model loading\n",
        "MODEL_NAME = \"openai/whisper-base\"\n",
        "MODEL, PROCESSOR, DEVICE = load_whisper_model(MODEL_NAME)"
      ],
      "metadata": {
        "id": "Lo-sRfHX8-kX"
      },
      "execution_count": 7,
      "outputs": []
    },
    {
      "cell_type": "code",
      "source": [
        "def prepare_audio(audio_path):\n",
        "    try:\n",
        "        # Use librosa to load and resample audio\n",
        "        waveform, original_sample_rate = librosa.load(audio_path, sr=None)\n",
        "\n",
        "        # Resample to 16kHz if necessary\n",
        "        if original_sample_rate != 16000:\n",
        "            waveform = librosa.resample(\n",
        "                waveform,\n",
        "                orig_sr=original_sample_rate,\n",
        "                target_sr=16000\n",
        "            )\n",
        "\n",
        "        # Ensure mono audio\n",
        "        if waveform.ndim > 1:\n",
        "            waveform = waveform.mean(axis=1)\n",
        "\n",
        "        print(f\"Audio prepared - Sample Rate: 16000, Length: {len(waveform)}\")\n",
        "        return waveform, 16000\n",
        "\n",
        "    except Exception as e:\n",
        "        print(f\"Audio preparation error: {e}\")\n",
        "        return None, None"
      ],
      "metadata": {
        "id": "416oFkjX9ETK"
      },
      "execution_count": 8,
      "outputs": []
    },
    {
      "cell_type": "code",
      "source": [
        "def transcribe_audio(audio_path):\n",
        "    try:\n",
        "        # Prepare audio with guaranteed 16kHz sampling rate\n",
        "        waveform, sample_rate = prepare_audio(audio_path)\n",
        "\n",
        "        if waveform is None:\n",
        "            return \"Failed to load audio file\"\n",
        "\n",
        "        # Prepare inputs with explicit dtype handling\n",
        "        inputs = PROCESSOR(\n",
        "            waveform,\n",
        "            sampling_rate=sample_rate,\n",
        "            return_tensors=\"pt\"\n",
        "        )\n",
        "\n",
        "        # Ensure inputs are on the correct device and dtype\n",
        "        input_features = inputs.input_features.to(DEVICE, dtype=torch.float32)\n",
        "\n",
        "        # Generate transcription\n",
        "        generated_ids = MODEL.generate(input_features)\n",
        "\n",
        "        # Decode the transcription\n",
        "        transcription = PROCESSOR.batch_decode(\n",
        "            generated_ids,\n",
        "            skip_special_tokens=True\n",
        "        )[0]\n",
        "\n",
        "        return transcription\n",
        "\n",
        "    except Exception as e:\n",
        "        print(f\"Transcription error: {e}\")\n",
        "        return f\"Error during transcription: {str(e)}\""
      ],
      "metadata": {
        "id": "r4raJ74p9HoO"
      },
      "execution_count": 9,
      "outputs": []
    },
    {
      "cell_type": "code",
      "source": [
        "def process_audio(audio):\n",
        "    try:\n",
        "        # Handle different input types\n",
        "        if audio is None:\n",
        "            return \"No audio file provided\"\n",
        "\n",
        "        # If audio is a numpy array, save to file\n",
        "        if isinstance(audio, np.ndarray):\n",
        "            temp_audio_path = \"temp_audio.wav\"\n",
        "            # Resample to 16kHz if necessary\n",
        "            if audio.size > 0:\n",
        "                # Determine original sample rate (assume it might be different)\n",
        "                original_sr = 44100  # Common sample rate, can be adjusted\n",
        "                resampled_audio = librosa.resample(\n",
        "                    audio,\n",
        "                    orig_sr=original_sr,\n",
        "                    target_sr=16000\n",
        "                )\n",
        "                sf.write(temp_audio_path, resampled_audio, 16000)\n",
        "            else:\n",
        "                return \"Empty audio input\"\n",
        "            audio = temp_audio_path\n",
        "\n",
        "        # Transcribe the audio\n",
        "        transcription = transcribe_audio(audio)\n",
        "\n",
        "        return transcription\n",
        "\n",
        "    except Exception as e:\n",
        "        return f\"Processing error: {str(e)}\""
      ],
      "metadata": {
        "id": "CRuxj-rx9KOj"
      },
      "execution_count": 10,
      "outputs": []
    },
    {
      "cell_type": "code",
      "source": [
        "def create_gradio_interface():\n",
        "    interface = gr.Interface(\n",
        "        fn=process_audio,\n",
        "        inputs=[\n",
        "            gr.Audio(\n",
        "                sources=[\"upload\", \"microphone\"],\n",
        "                type=\"filepath\",\n",
        "                label=\"Upload or Record Audio\"\n",
        "            )\n",
        "        ],\n",
        "        outputs=[\n",
        "            gr.Textbox(\n",
        "                label=\"Transcription\",\n",
        "                lines=5\n",
        "            )\n",
        "        ],\n",
        "        title=\"🎙️ Whisper Transcription\",\n",
        "        description=\"Upload an audio file or record audio to transcribe\",\n",
        "        examples=[\n",
        "            [\"path/to/sample1.mp3\"],\n",
        "            [\"path/to/sample2.wav\"]\n",
        "        ]\n",
        "    )\n",
        "\n",
        "    return interface"
      ],
      "metadata": {
        "id": "2Mk3k8rb9NWN"
      },
      "execution_count": 11,
      "outputs": []
    },
    {
      "cell_type": "code",
      "source": [
        "def main():\n",
        "    # Check if model is loaded successfully\n",
        "    if MODEL is None or PROCESSOR is None:\n",
        "        print(\"Failed to load Whisper model. Please check your setup.\")\n",
        "        return\n",
        "\n",
        "    # Create and launch interface\n",
        "    interface = create_gradio_interface()\n",
        "    interface.launch(debug=True)\n",
        "\n",
        "# Installation Requirements\n",
        "# !pip install -U transformers torch torchaudio gradio soundfile librosa\n",
        "\n",
        "# Run the main function\n",
        "if __name__ == \"__main__\":\n",
        "    main()"
      ],
      "metadata": {
        "colab": {
          "base_uri": "https://localhost:8080/",
          "height": 796
        },
        "id": "ImLpbf7yvyQo",
        "outputId": "654d108a-3c22-494a-f6f2-249707dcd5b6"
      },
      "execution_count": 12,
      "outputs": [
        {
          "output_type": "stream",
          "name": "stdout",
          "text": [
            "Running Gradio in a Colab notebook requires sharing enabled. Automatically setting `share=True` (you can turn this off by setting `share=False` in `launch()` explicitly).\n",
            "\n",
            "Colab notebook detected. This cell will run indefinitely so that you can see errors and logs. To turn off, set debug=False in launch().\n",
            "* Running on public URL: https://edb8e6347931509212.gradio.live\n",
            "\n",
            "This share link expires in 72 hours. For free permanent hosting and GPU upgrades, run `gradio deploy` from the terminal in the working directory to deploy to Hugging Face Spaces (https://huggingface.co/spaces)\n"
          ]
        },
        {
          "output_type": "display_data",
          "data": {
            "text/plain": [
              "<IPython.core.display.HTML object>"
            ],
            "text/html": [
              "<div><iframe src=\"https://edb8e6347931509212.gradio.live\" width=\"100%\" height=\"500\" allow=\"autoplay; camera; microphone; clipboard-read; clipboard-write;\" frameborder=\"0\" allowfullscreen></iframe></div>"
            ]
          },
          "metadata": {}
        },
        {
          "output_type": "stream",
          "name": "stderr",
          "text": [
            "Due to a bug fix in https://github.com/huggingface/transformers/pull/28687 transcription using a multilingual Whisper will default to language detection followed by transcription instead of translation to English.This might be a breaking change for your use case. If you want to instead always translate your audio to English, make sure to pass `language='en'`.\n"
          ]
        },
        {
          "output_type": "stream",
          "name": "stdout",
          "text": [
            "Audio prepared - Sample Rate: 16000, Length: 176128\n"
          ]
        },
        {
          "output_type": "stream",
          "name": "stderr",
          "text": [
            "Passing a tuple of `past_key_values` is deprecated and will be removed in Transformers v4.43.0. You should pass an instance of `EncoderDecoderCache` instead, e.g. `past_key_values=EncoderDecoderCache.from_legacy_cache(past_key_values)`.\n",
            "The attention mask is not set and cannot be inferred from input because pad token is same as eos token. As a consequence, you may observe unexpected behavior. Please pass your input's `attention_mask` to obtain reliable results.\n"
          ]
        },
        {
          "output_type": "stream",
          "name": "stdout",
          "text": [
            "Audio prepared - Sample Rate: 16000, Length: 159744\n",
            "Audio prepared - Sample Rate: 16000, Length: 175211\n",
            "Keyboard interruption in main thread... closing server.\n",
            "Killing tunnel 127.0.0.1:7860 <> https://edb8e6347931509212.gradio.live\n"
          ]
        }
      ]
    },
    {
      "cell_type": "code",
      "source": [],
      "metadata": {
        "id": "5OvNMvrm1xuJ"
      },
      "execution_count": null,
      "outputs": []
    }
  ]
}